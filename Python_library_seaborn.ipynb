{
  "nbformat": 4,
  "nbformat_minor": 0,
  "metadata": {
    "colab": {
      "provenance": []
    },
    "kernelspec": {
      "name": "python3",
      "display_name": "Python 3"
    },
    "language_info": {
      "name": "python"
    }
  },
  "cells": [
    {
      "cell_type": "markdown",
      "source": [
        "Seaborn : Data visualization library"
      ],
      "metadata": {
        "id": "aZQBgTTnNQSw"
      }
    },
    {
      "cell_type": "code",
      "source": [
        "# importing the library\n",
        "import seaborn as sns\n",
        "import matplotlib.pyplot as plt\n",
        "import numpy as np\n",
        "import pandas as pd"
      ],
      "metadata": {
        "id": "RowBFAw0NONc"
      },
      "execution_count": null,
      "outputs": []
    },
    {
      "cell_type": "markdown",
      "source": [
        "Note: seaborn haos some built in library\n"
      ],
      "metadata": {
        "id": "573BL32YN-C7"
      }
    },
    {
      "cell_type": "code",
      "execution_count": null,
      "metadata": {
        "id": "EIbYMppTE2cB"
      },
      "outputs": [],
      "source": [
        "# total bill vs tips dataset\n",
        "tips = sns.load_dataset('tips')\n",
        "tips.head()"
      ]
    },
    {
      "cell_type": "code",
      "source": [
        "#setting theme for plots\n",
        "sns.set_theme()"
      ],
      "metadata": {
        "id": "GJTM7pZPPnjc"
      },
      "execution_count": null,
      "outputs": []
    },
    {
      "cell_type": "code",
      "source": [
        "#visualize the data\n",
        "sns.relplot(x= 'total_bill', y = 'tip', data = tips,  col ='time' , hue ='smoker', style = 'smoker', size = 'size')"
      ],
      "metadata": {
        "id": "3j-EumQuO3xq"
      },
      "execution_count": null,
      "outputs": []
    },
    {
      "cell_type": "code",
      "source": [
        "#load the iris data\n",
        "iris = sns.load_dataset('iris')\n",
        "iris.head()\n"
      ],
      "metadata": {
        "id": "5i5wVC_WQJWz"
      },
      "execution_count": null,
      "outputs": []
    },
    {
      "cell_type": "markdown",
      "source": [
        "Scatter plot"
      ],
      "metadata": {
        "id": "bzjnWDOQRrhq"
      }
    },
    {
      "cell_type": "code",
      "source": [
        "sns.scatterplot(x = 'sepal_length', y = 'petal_length', hue ='species', data =iris)"
      ],
      "metadata": {
        "id": "TCYZ5JdrRrSn"
      },
      "execution_count": null,
      "outputs": []
    },
    {
      "cell_type": "code",
      "source": [
        "sns.scatterplot(x = 'sepal_length', y = 'petal_width', hue ='species', data =iris)"
      ],
      "metadata": {
        "id": "9DQkwiUARUml"
      },
      "execution_count": null,
      "outputs": []
    },
    {
      "cell_type": "code",
      "source": [
        "#load the titanic dataset\n",
        "titanic = sns.load_dataset('titanic')\n",
        "titanic.head()"
      ],
      "metadata": {
        "id": "M9gXkN0DSaTS"
      },
      "execution_count": null,
      "outputs": []
    },
    {
      "cell_type": "markdown",
      "source": [
        "count plot"
      ],
      "metadata": {
        "id": "v578mebFTLdF"
      }
    },
    {
      "cell_type": "code",
      "source": [
        "sns.countplot(x = 'sex', data =titanic)"
      ],
      "metadata": {
        "id": "i0lUG2OfTIxQ"
      },
      "execution_count": null,
      "outputs": []
    },
    {
      "cell_type": "code",
      "source": [
        "sns.countplot(x = 'class', data = titanic)"
      ],
      "metadata": {
        "id": "BKgMxYq4Temo"
      },
      "execution_count": null,
      "outputs": []
    },
    {
      "cell_type": "markdown",
      "source": [
        "Bar chart"
      ],
      "metadata": {
        "id": "vPZzWPaPT0g4"
      }
    },
    {
      "cell_type": "code",
      "source": [
        "sns.barplot (x = 'sex', y = 'survived', hue = 'class', data = titanic)"
      ],
      "metadata": {
        "id": "2SjuNHc7TqWo"
      },
      "execution_count": null,
      "outputs": []
    },
    {
      "cell_type": "code",
      "source": [
        "#house price data\n",
        "from sklearn.datasets import fetch_california_housing\n",
        "housing_data = fetch_california_housing()\n",
        "print(housing_data)"
      ],
      "metadata": {
        "id": "kgGG-rtsUU87"
      },
      "execution_count": null,
      "outputs": []
    },
    {
      "cell_type": "code",
      "source": [
        "house = pd.DataFrame(housing_data.data, columns = housing_data.feature_names)\n",
        "house.head()"
      ],
      "metadata": {
        "id": "qE90wrpKVMOq"
      },
      "execution_count": null,
      "outputs": []
    },
    {
      "cell_type": "code",
      "source": [
        "house['PRICE'] = housing_data.target\n",
        "house.head()"
      ],
      "metadata": {
        "id": "Urxbq1uMWLqE"
      },
      "execution_count": null,
      "outputs": []
    },
    {
      "cell_type": "markdown",
      "source": [
        "Distribution plot"
      ],
      "metadata": {
        "id": "mbx8kf4sWzg2"
      }
    },
    {
      "cell_type": "code",
      "source": [
        "sns.displot(house['PRICE'])\n"
      ],
      "metadata": {
        "id": "I9tpkGjpWh4O"
      },
      "execution_count": null,
      "outputs": []
    },
    {
      "cell_type": "markdown",
      "source": [
        "Correlation:\n",
        "\n",
        "\n",
        "1. positive correlation\n",
        "2. negative correlation"
      ],
      "metadata": {
        "id": "EFHKIPo3XGnE"
      }
    },
    {
      "cell_type": "code",
      "source": [
        "correlation = house.corr()\n"
      ],
      "metadata": {
        "id": "sl9TGyHsW_EI"
      },
      "execution_count": null,
      "outputs": []
    },
    {
      "cell_type": "markdown",
      "source": [
        "heat Map"
      ],
      "metadata": {
        "id": "JZbNlijRXoA4"
      }
    },
    {
      "cell_type": "code",
      "source": [
        "#constructing a heat map\n",
        "plt.figure(figsize = (10,10))\n",
        "sns.heatmap(correlation, cbar = True, square = True, fmt = '.1f', annot =True, annot_kws = {'size':8}, cmap = 'Blues')"
      ],
      "metadata": {
        "id": "UtfoKQH0XlXK"
      },
      "execution_count": null,
      "outputs": []
    },
    {
      "cell_type": "code",
      "source": [],
      "metadata": {
        "id": "MLs5QYH5Y7Ok"
      },
      "execution_count": null,
      "outputs": []
    }
  ]
}