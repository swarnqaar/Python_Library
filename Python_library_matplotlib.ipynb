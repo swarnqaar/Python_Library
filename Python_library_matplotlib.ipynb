{
  "nbformat": 4,
  "nbformat_minor": 0,
  "metadata": {
    "colab": {
      "provenance": []
    },
    "kernelspec": {
      "name": "python3",
      "display_name": "Python 3"
    },
    "language_info": {
      "name": "python"
    }
  },
  "cells": [
    {
      "cell_type": "markdown",
      "source": [
        "useful for making plot"
      ],
      "metadata": {
        "id": "eU2gC0dKyhEs"
      }
    },
    {
      "cell_type": "code",
      "execution_count": null,
      "metadata": {
        "id": "Vac6fetCyGPA"
      },
      "outputs": [],
      "source": [
        "# importing matplotlib library\n",
        "import matplotlib.pyplot as  plt\n",
        "# importing numpy to gat data for plots\n",
        "import numpy as np"
      ]
    },
    {
      "cell_type": "code",
      "source": [
        "x = np.linspace(0,10,100)\n",
        "y = np.sin(x)\n",
        "z = np.cos(x)"
      ],
      "metadata": {
        "id": "A_6eiRDPzM89"
      },
      "execution_count": null,
      "outputs": []
    },
    {
      "cell_type": "code",
      "source": [
        "print(x)\n",
        "print(y)\n",
        "print(z)"
      ],
      "metadata": {
        "id": "XJ1gsVKn2Qed"
      },
      "execution_count": null,
      "outputs": []
    },
    {
      "cell_type": "markdown",
      "source": [
        "Plotting the data"
      ],
      "metadata": {
        "id": "emerxPmv2crL"
      }
    },
    {
      "cell_type": "code",
      "source": [
        "#sine wave\n",
        "plt.plot(x,y)\n",
        "plt.show()"
      ],
      "metadata": {
        "id": "w15LoAHQ2XjK"
      },
      "execution_count": null,
      "outputs": []
    },
    {
      "cell_type": "code",
      "source": [
        "#cosine wave\n",
        "plt.plot(x,z)\n",
        "plt.show()"
      ],
      "metadata": {
        "id": "S4RgxLbo2vHc"
      },
      "execution_count": null,
      "outputs": []
    },
    {
      "cell_type": "code",
      "source": [
        "# adding  tittle  x-axis 7 y-axis labels\n",
        "plt.plot(x,y)\n",
        "plt.xlabel('angles')\n",
        "plt.ylabel('sine value')\n",
        "plt.title('sine wave')\n",
        "plt.show()"
      ],
      "metadata": {
        "id": "RFeBoqVl2_Qj"
      },
      "execution_count": null,
      "outputs": []
    },
    {
      "cell_type": "code",
      "source": [
        "#Parabola\n",
        "x =np.linspace(-10,10,100)\n",
        "y = x**2\n",
        "plt.plot(x,y)\n",
        "plt.xlabel('x')\n",
        "plt.ylabel('y')\n",
        "plt.title('Parbola')\n",
        "plt.show()\n"
      ],
      "metadata": {
        "id": "T1nvt_3P3PYL"
      },
      "execution_count": null,
      "outputs": []
    },
    {
      "cell_type": "code",
      "source": [
        "plt.plot(x,y, 'r+')\n",
        "plt.show()"
      ],
      "metadata": {
        "id": "U2RQc6jW6N1l"
      },
      "execution_count": null,
      "outputs": []
    },
    {
      "cell_type": "code",
      "source": [
        "x = np.linspace(-5, 5, 100)\n",
        "plt.plot(x, np.sin(x))\n",
        "plt.plot(x, np.cos(x))\n",
        "plt.show()"
      ],
      "metadata": {
        "id": "fCS48EhJAWwD"
      },
      "execution_count": null,
      "outputs": []
    },
    {
      "cell_type": "markdown",
      "source": [
        "Bar Plot"
      ],
      "metadata": {
        "id": "ecA9dTsbwmf2"
      }
    },
    {
      "cell_type": "code",
      "source": [
        "fig = plt.figure()\n",
        "ax = fig.add_axes([0,0,1,1])\n",
        "languages = ['c++','python', 'ruby', 'java', 'SQL']\n",
        "people = [76,39, 89,67,40]\n",
        "ax.bar(languages, people)\n",
        "plt.xlabel = ('languages')\n",
        "plt.ylabel = ('people')\n",
        "plt.show()"
      ],
      "metadata": {
        "id": "ODEjxGdlBZj9"
      },
      "execution_count": null,
      "outputs": []
    },
    {
      "cell_type": "markdown",
      "source": [
        "Pie Chat"
      ],
      "metadata": {
        "id": "lGUBFKtayP5o"
      }
    },
    {
      "cell_type": "code",
      "source": [
        "fig2 = plt.figure()\n",
        "ax = fig2.add_axes([0,0,1,1])\n",
        "languages = ['c++','python', 'ruby', 'java', 'SQL']\n",
        "people = [76,39, 89,67,40]\n",
        "ax.pie(people , labels = languages, autopct = '%1.1f%%')\n",
        "plt.show()"
      ],
      "metadata": {
        "id": "us5751d5x_gS"
      },
      "execution_count": null,
      "outputs": []
    },
    {
      "cell_type": "markdown",
      "source": [
        "Scatter plot"
      ],
      "metadata": {
        "id": "dY_yVSuPzkl3"
      }
    },
    {
      "cell_type": "code",
      "source": [
        "x = np.linspace(0,10,30)\n",
        "y = np.sin(x)\n",
        "z = np.cos(y)\n",
        "fig2 = plt.figure()\n",
        "ax = fig2.add_axes([0,0,1,1])\n",
        "ax.scatter(x,y,color = 'r')\n",
        "ax.scatter(x,z, color = 'b')\n",
        "plt.show()"
      ],
      "metadata": {
        "id": "WaeZQjyuzUyN"
      },
      "execution_count": null,
      "outputs": []
    },
    {
      "cell_type": "markdown",
      "source": [
        "3-D scatter plot"
      ],
      "metadata": {
        "id": "jXqxf_ET1GFX"
      }
    },
    {
      "cell_type": "code",
      "source": [
        "fig3 = plt.figure()\n",
        "ax = fig3.add_axes([0,0,1,1])\n",
        "z = 20 * np.random.random(1000)\n",
        "x = np.sin(z)\n",
        "y = np.cos(z)\n",
        "ax.scatter(x,y,z ,c = z, cmap ='Blues')\n",
        "plt.show()\n"
      ],
      "metadata": {
        "id": "5Jt5Lo0Z039x"
      },
      "execution_count": null,
      "outputs": []
    },
    {
      "cell_type": "code",
      "source": [],
      "metadata": {
        "id": "60heD6h928W7"
      },
      "execution_count": null,
      "outputs": []
    }
  ]
}