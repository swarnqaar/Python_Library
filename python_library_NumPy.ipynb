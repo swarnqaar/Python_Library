{
  "nbformat": 4,
  "nbformat_minor": 0,
  "metadata": {
    "colab": {
      "provenance": []
    },
    "kernelspec": {
      "name": "python3",
      "display_name": "Python 3"
    },
    "language_info": {
      "name": "python"
    }
  },
  "cells": [
    {
      "cell_type": "markdown",
      "source": [
        "Advantages of Numpy Arrays:\n",
        "\n",
        "1.   Allows several mathematical operation\n",
        "2.   Faster operation\n",
        "\n"
      ],
      "metadata": {
        "id": "fwHeHtDId-gD"
      }
    },
    {
      "cell_type": "code",
      "execution_count": null,
      "metadata": {
        "id": "77C7vBSHduhv"
      },
      "outputs": [],
      "source": [
        "import numpy  as np"
      ]
    },
    {
      "cell_type": "markdown",
      "source": [
        "List Vs Numpy - time  taken\n"
      ],
      "metadata": {
        "id": "RLQ6yCssFX-b"
      }
    },
    {
      "cell_type": "code",
      "source": [
        "from time import process_time"
      ],
      "metadata": {
        "id": "U1qt7EdpFU9t"
      },
      "execution_count": null,
      "outputs": []
    },
    {
      "cell_type": "markdown",
      "source": [
        "time taken by the list"
      ],
      "metadata": {
        "id": "_TtrFxY1FuUy"
      }
    },
    {
      "cell_type": "code",
      "source": [
        "python_list = [i for i in range(10000)]"
      ],
      "metadata": {
        "id": "uJOk2vXWFqmD"
      },
      "execution_count": null,
      "outputs": []
    },
    {
      "cell_type": "code",
      "source": [
        "start_time = process_time()"
      ],
      "metadata": {
        "id": "JKpbST80F7Rz"
      },
      "execution_count": null,
      "outputs": []
    },
    {
      "cell_type": "code",
      "source": [
        "python_list = [i+5 for i in python_list]"
      ],
      "metadata": {
        "id": "Eg3mPddFGB5i"
      },
      "execution_count": null,
      "outputs": []
    },
    {
      "cell_type": "code",
      "source": [
        "end_time = process_time()\n"
      ],
      "metadata": {
        "id": "VgvqcCsxGOgL"
      },
      "execution_count": null,
      "outputs": []
    },
    {
      "cell_type": "code",
      "source": [
        "print(end_time - start_time)"
      ],
      "metadata": {
        "id": "uRihVUgIHJ1b"
      },
      "execution_count": null,
      "outputs": []
    },
    {
      "cell_type": "markdown",
      "source": [
        "time taken by the numpy arrays"
      ],
      "metadata": {
        "id": "4uRqJUDHGYRS"
      }
    },
    {
      "cell_type": "code",
      "source": [
        "np_array = np.array([i for i in range(10000)])"
      ],
      "metadata": {
        "id": "Tvo3QQiQGYFj"
      },
      "execution_count": null,
      "outputs": []
    },
    {
      "cell_type": "code",
      "source": [
        "start_time = process_time()"
      ],
      "metadata": {
        "id": "znuaPJOEGSGj"
      },
      "execution_count": null,
      "outputs": []
    },
    {
      "cell_type": "code",
      "source": [
        "np_array  += 5"
      ],
      "metadata": {
        "id": "sQpixGvQG78E"
      },
      "execution_count": null,
      "outputs": []
    },
    {
      "cell_type": "code",
      "source": [
        "end_time = process_time()"
      ],
      "metadata": {
        "id": "EYt6hRcbHDNr"
      },
      "execution_count": null,
      "outputs": []
    },
    {
      "cell_type": "code",
      "source": [
        "print(end_time - start_time)"
      ],
      "metadata": {
        "id": "x1RY5hsGHVt7"
      },
      "execution_count": null,
      "outputs": []
    },
    {
      "cell_type": "markdown",
      "source": [
        "Numpy Arrays"
      ],
      "metadata": {
        "id": "B0zFhZ-FHbfP"
      }
    },
    {
      "cell_type": "code",
      "source": [
        "#List\n",
        "my_list =[1,2,3,4,5]\n",
        "print(my_list)"
      ],
      "metadata": {
        "id": "MRMwFDiDHZ3r"
      },
      "execution_count": null,
      "outputs": []
    },
    {
      "cell_type": "code",
      "source": [
        "type(my_list)"
      ],
      "metadata": {
        "id": "zx7I1i-kHoXD"
      },
      "execution_count": null,
      "outputs": []
    },
    {
      "cell_type": "code",
      "source": [
        "np_array = np.array([1,2,3,4,5])"
      ],
      "metadata": {
        "id": "Ho5a43qqHvWj"
      },
      "execution_count": null,
      "outputs": []
    },
    {
      "cell_type": "code",
      "source": [
        "print(np_array)"
      ],
      "metadata": {
        "id": "a6WoYsz_H_fr"
      },
      "execution_count": null,
      "outputs": []
    },
    {
      "cell_type": "code",
      "source": [
        "type(np_array)"
      ],
      "metadata": {
        "id": "sxjnmH26IDFL"
      },
      "execution_count": null,
      "outputs": []
    },
    {
      "cell_type": "code",
      "source": [
        "#creating 1-D array\n",
        "a = np.array([1,2,3,4])\n",
        "print(a)"
      ],
      "metadata": {
        "id": "YmQ1DJglIHfb"
      },
      "execution_count": null,
      "outputs": []
    },
    {
      "cell_type": "code",
      "source": [
        "a.shape"
      ],
      "metadata": {
        "id": "ujZPHa2AIaEk"
      },
      "execution_count": null,
      "outputs": []
    },
    {
      "cell_type": "code",
      "source": [
        "#creating 2-D arrays\n",
        "b = np.array([(1,2,3,4) , (5,6,7,8)])\n",
        "print(b)"
      ],
      "metadata": {
        "id": "sxdLHIelIfUD"
      },
      "execution_count": null,
      "outputs": []
    },
    {
      "cell_type": "code",
      "source": [
        "b.shape\n"
      ],
      "metadata": {
        "id": "h2AWRaVKI1r7"
      },
      "execution_count": null,
      "outputs": []
    },
    {
      "cell_type": "code",
      "source": [
        "c = np.array([(1,2,3,4) ,(5,6,7,8)])\n",
        "print(c)"
      ],
      "metadata": {
        "id": "L_flB69zJIHj"
      },
      "execution_count": null,
      "outputs": []
    },
    {
      "cell_type": "markdown",
      "source": [
        "Initial Placeholder in numpy arrays"
      ],
      "metadata": {
        "id": "9pqGWgssJu57"
      }
    },
    {
      "cell_type": "code",
      "source": [
        "#create a numpy array of zeros\n",
        "x  = np.zeros((4,5))\n",
        "print(x)"
      ],
      "metadata": {
        "id": "kcCv9m7zJLxr"
      },
      "execution_count": null,
      "outputs": []
    },
    {
      "cell_type": "code",
      "source": [
        "#creates a numpy array of oness\n",
        "y = np.ones((4,4))\n",
        "print(y)"
      ],
      "metadata": {
        "id": "OLGhk96uJ-wT"
      },
      "execution_count": null,
      "outputs": []
    },
    {
      "cell_type": "code",
      "source": [
        "#create a identity matrix\n",
        "a = np.eye(5)\n",
        "print(a)"
      ],
      "metadata": {
        "id": "rIKvg5N8KpTT"
      },
      "execution_count": null,
      "outputs": []
    },
    {
      "cell_type": "code",
      "source": [
        "#create a  numpy array  with ramdom values\n",
        "\n",
        "b = np.random.random((3,3))\n",
        "print(b)"
      ],
      "metadata": {
        "id": "o0w7PRecLdwM"
      },
      "execution_count": null,
      "outputs": []
    },
    {
      "cell_type": "code",
      "source": [
        "#random integer values array  with apecific range\n",
        "c = np.random.randint(10,100, (3,3))\n",
        "print(c)"
      ],
      "metadata": {
        "id": "D_r2nIaAMlOj"
      },
      "execution_count": null,
      "outputs": []
    },
    {
      "cell_type": "code",
      "source": [
        "#array of evenly spaced values -> specifying the number of values reuired\n",
        "d = np.linspace(10,30,6)\n",
        "print(d)"
      ],
      "metadata": {
        "id": "V7wItvz1M7I6"
      },
      "execution_count": null,
      "outputs": []
    },
    {
      "cell_type": "code",
      "source": [
        "#array of evenly spaced values -> specifyiing the step\n",
        "e = np.arange(10,30,5)\n",
        "print(e)"
      ],
      "metadata": {
        "id": "F8dPXFLkNqhb"
      },
      "execution_count": null,
      "outputs": []
    },
    {
      "cell_type": "code",
      "source": [
        "# convert a list to numpy array\n",
        "list_2 = [10, 20 ,30, 40, 50]\n",
        "np_array = np.asarray(list_2)\n",
        "print(np_array)\n",
        "type(np_array)"
      ],
      "metadata": {
        "id": "nFHtGJkVOF5D"
      },
      "execution_count": null,
      "outputs": []
    },
    {
      "cell_type": "markdown",
      "source": [
        "Analysing a numpy array"
      ],
      "metadata": {
        "id": "2KWyWkmUO8b8"
      }
    },
    {
      "cell_type": "code",
      "source": [
        "c = np.random.randint(10,90, (5,5))\n",
        "print(c)"
      ],
      "metadata": {
        "id": "GtwNWXOGPF7M"
      },
      "execution_count": null,
      "outputs": []
    },
    {
      "cell_type": "code",
      "source": [
        "#array dimension\n",
        "print(c.shape)"
      ],
      "metadata": {
        "id": "uB181aypPixU"
      },
      "execution_count": null,
      "outputs": []
    },
    {
      "cell_type": "code",
      "source": [
        "# number of dimension\n",
        "print(c.ndim)"
      ],
      "metadata": {
        "id": "jCuqVIrjObPy"
      },
      "execution_count": null,
      "outputs": []
    },
    {
      "cell_type": "code",
      "source": [
        "#number  of element in an array\n",
        "print(c.size)"
      ],
      "metadata": {
        "id": "4BqFHddaRIWa"
      },
      "execution_count": null,
      "outputs": []
    },
    {
      "cell_type": "code",
      "source": [
        "#checking the datatye of the values in the array\n",
        "print(c.dtype)"
      ],
      "metadata": {
        "id": "K08QuZniRUmS"
      },
      "execution_count": null,
      "outputs": []
    },
    {
      "cell_type": "markdown",
      "source": [
        "Mathematical operation on a np array"
      ],
      "metadata": {
        "id": "u8KU6qb4RykN"
      }
    },
    {
      "cell_type": "code",
      "source": [
        "#concatenate\n",
        "list_1 = [1,2,3,4,5]\n",
        "list_2 = [6,7,8,9,10]\n",
        "\n",
        "print(list_1  + list_2)"
      ],
      "metadata": {
        "id": "j4CB0YIaRk6T"
      },
      "execution_count": null,
      "outputs": []
    },
    {
      "cell_type": "code",
      "source": [
        "a = np.random.randint(10, 100, (3,3))\n",
        "b = np.random.randint(10, 100, (3,3))\n",
        "\n",
        "print(a)\n",
        "print(b)"
      ],
      "metadata": {
        "id": "E7z3elMhSScz"
      },
      "execution_count": null,
      "outputs": []
    },
    {
      "cell_type": "code",
      "source": [
        "print(a+b)\n",
        "print(a-b)\n",
        "print(a*b)\n",
        "print(a/b)"
      ],
      "metadata": {
        "id": "65qaBmnOSuTD"
      },
      "execution_count": null,
      "outputs": []
    },
    {
      "cell_type": "code",
      "source": [
        "a = np.random.randint(10,100, (4,5))\n",
        "b = np.random.randint(20,200, (4,5))\n",
        "\n",
        "print(a)\n",
        "print(b)"
      ],
      "metadata": {
        "id": "ss0jIhwhTHkm"
      },
      "execution_count": null,
      "outputs": []
    },
    {
      "cell_type": "code",
      "source": [
        "print(np.add(a,b))\n",
        "print(np.subtract(a,b))\n",
        "print(np.multiply(a,b))\n",
        "print(np.divide(a,b))\n"
      ],
      "metadata": {
        "id": "Eto_LSrlTuf7"
      },
      "execution_count": null,
      "outputs": []
    },
    {
      "cell_type": "markdown",
      "source": [
        "Array manipulation"
      ],
      "metadata": {
        "id": "YWu8SIo6UeOF"
      }
    },
    {
      "cell_type": "code",
      "source": [
        "array =np.random.randint(20,200, (4,5))\n",
        "print(array)\n",
        "print(array.shape)"
      ],
      "metadata": {
        "id": "Q4amqmSaUeBF"
      },
      "execution_count": null,
      "outputs": []
    },
    {
      "cell_type": "code",
      "source": [
        "#tranpose\n",
        "trans = np.transpose(array)\n",
        "print(trans)\n",
        "print(trans.shape)"
      ],
      "metadata": {
        "id": "C4DrHOrTUR7j"
      },
      "execution_count": null,
      "outputs": []
    },
    {
      "cell_type": "markdown",
      "source": [
        "OR"
      ],
      "metadata": {
        "id": "eZpr5fWTViN0"
      }
    },
    {
      "cell_type": "code",
      "source": [
        "array =np.random.randint(20,300,(4,5))\n",
        "print(array)\n",
        "print(array.shape)"
      ],
      "metadata": {
        "id": "59I3njSAVJX7"
      },
      "execution_count": null,
      "outputs": []
    },
    {
      "cell_type": "code",
      "source": [
        "trans2 = array.T\n",
        "print(trans2)\n",
        "print(trans2.shape)"
      ],
      "metadata": {
        "id": "69EWJ1K3VaKb"
      },
      "execution_count": null,
      "outputs": []
    },
    {
      "cell_type": "code",
      "source": [
        "#reshaping a array\n",
        "a =np.random.randint(0,100, (3,4))\n",
        "print(a)\n",
        "print(a.shape)"
      ],
      "metadata": {
        "id": "z5SIRXnpV4Ab"
      },
      "execution_count": null,
      "outputs": []
    },
    {
      "cell_type": "code",
      "source": [
        "b =a.reshape(4,3)\n",
        "print(b)\n",
        "print(b.shape)"
      ],
      "metadata": {
        "id": "nZE4aTngWlWr"
      },
      "execution_count": null,
      "outputs": []
    },
    {
      "cell_type": "code",
      "source": [],
      "metadata": {
        "id": "FQ35BpAEW2Qd"
      },
      "execution_count": null,
      "outputs": []
    }
  ]
}