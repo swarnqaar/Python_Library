{
  "nbformat": 4,
  "nbformat_minor": 0,
  "metadata": {
    "colab": {
      "provenance": []
    },
    "kernelspec": {
      "name": "python3",
      "display_name": "Python 3"
    },
    "language_info": {
      "name": "python"
    }
  },
  "cells": [
    {
      "cell_type": "markdown",
      "source": [
        "pandas :  it is useful for  data processing and analysis."
      ],
      "metadata": {
        "id": "dDYRxialjyg-"
      }
    },
    {
      "cell_type": "code",
      "execution_count": null,
      "metadata": {
        "id": "HV_UBuM6ifKJ"
      },
      "outputs": [],
      "source": [
        "# importing the pandas library\n",
        "import pandas as pd\n",
        "import numpy as np\n"
      ]
    },
    {
      "cell_type": "markdown",
      "source": [
        "Creating the Pandas DataFrame"
      ],
      "metadata": {
        "id": "8d8nj05Rjwsu"
      }
    },
    {
      "cell_type": "code",
      "source": [
        "# importing the boston house price dataset\n",
        "from sklearn.datasets import fetch_california_housing\n",
        "housing_dataset = fetch_california_housing()"
      ],
      "metadata": {
        "id": "yPRK6KnvkXFr"
      },
      "execution_count": null,
      "outputs": []
    },
    {
      "cell_type": "code",
      "source": [
        "type(housing_dataset)"
      ],
      "metadata": {
        "id": "LeoYsw2FlNj2"
      },
      "execution_count": null,
      "outputs": []
    },
    {
      "cell_type": "code",
      "source": [
        "print(housing_dataset)"
      ],
      "metadata": {
        "collapsed": true,
        "id": "vJGwKb_OmHtM"
      },
      "execution_count": null,
      "outputs": []
    },
    {
      "cell_type": "markdown",
      "source": [
        "Pandas Dataframe"
      ],
      "metadata": {
        "id": "NxclNYQJmR0L"
      }
    },
    {
      "cell_type": "code",
      "source": [
        "housing_df = pd.DataFrame(housing_dataset.data,  columns=housing_dataset.feature_names)"
      ],
      "metadata": {
        "id": "Kr8BZ5LrmOhE"
      },
      "execution_count": null,
      "outputs": []
    },
    {
      "cell_type": "code",
      "source": [
        "housing_df.head()"
      ],
      "metadata": {
        "collapsed": true,
        "id": "FrUWcY9_m2vt"
      },
      "execution_count": null,
      "outputs": []
    },
    {
      "cell_type": "code",
      "source": [
        "housing_df.shape"
      ],
      "metadata": {
        "id": "PejwYUJWnzUT"
      },
      "execution_count": null,
      "outputs": []
    },
    {
      "cell_type": "markdown",
      "source": [
        "Importing the data from csv file to Pandas DataFrame"
      ],
      "metadata": {
        "id": "ipOUAZq-oVnB"
      }
    },
    {
      "cell_type": "code",
      "source": [
        "#csv file to pandas df\n",
        "diabetes_df = pd.read_csv('/content/diabetes.csv')"
      ],
      "metadata": {
        "id": "DJw8uWSDoVBS"
      },
      "execution_count": null,
      "outputs": []
    },
    {
      "cell_type": "code",
      "source": [
        "diabetes_df.head()"
      ],
      "metadata": {
        "id": "WfpzoT-in4YD"
      },
      "execution_count": null,
      "outputs": []
    },
    {
      "cell_type": "code",
      "source": [
        "diabetes_df.shape\n"
      ],
      "metadata": {
        "id": "zo3XJKKGpgqy"
      },
      "execution_count": null,
      "outputs": []
    },
    {
      "cell_type": "markdown",
      "source": [
        "Loading the data from excel file to the pandas Dataframe"
      ],
      "metadata": {
        "id": "q8QoVMOoqDYL"
      }
    },
    {
      "cell_type": "code",
      "source": [
        "pd.read_excel('/content/housing.xlsx')"
      ],
      "metadata": {
        "id": "VD_9YfI0p8T8"
      },
      "execution_count": null,
      "outputs": []
    },
    {
      "cell_type": "markdown",
      "source": [
        "exporting the dataframe to a csv file"
      ],
      "metadata": {
        "id": "S_w0nIlErLth"
      }
    },
    {
      "cell_type": "code",
      "source": [
        "housing_df.to_csv('housing.csv')"
      ],
      "metadata": {
        "id": "92nQPnqvrLdi"
      },
      "execution_count": null,
      "outputs": []
    },
    {
      "cell_type": "markdown",
      "source": [
        "exportting the pandas dataframe to an excel file"
      ],
      "metadata": {
        "id": "8wWkF_XQsCNS"
      }
    },
    {
      "cell_type": "code",
      "source": [
        "housing_df.to_excel('housing.xlsx')"
      ],
      "metadata": {
        "id": "dImhz-odrKhi"
      },
      "execution_count": null,
      "outputs": []
    },
    {
      "cell_type": "markdown",
      "source": [
        "creating a dataframe with randon value\n"
      ],
      "metadata": {
        "id": "LbWlr95MtP4S"
      }
    },
    {
      "cell_type": "code",
      "source": [
        "random_df = pd.DataFrame(np.random.rand(20,10))"
      ],
      "metadata": {
        "id": "c_cg0SHbstGU"
      },
      "execution_count": null,
      "outputs": []
    },
    {
      "cell_type": "code",
      "source": [
        "random_df.head()"
      ],
      "metadata": {
        "id": "-9SAIErctkp7"
      },
      "execution_count": null,
      "outputs": []
    },
    {
      "cell_type": "code",
      "source": [
        "random_df.shape"
      ],
      "metadata": {
        "id": "-zB4EhW_totL"
      },
      "execution_count": null,
      "outputs": []
    },
    {
      "cell_type": "markdown",
      "source": [
        "Inspecting a DataFrame"
      ],
      "metadata": {
        "id": "2z5DrbKlSlPE"
      }
    },
    {
      "cell_type": "code",
      "source": [
        "#finding the number of rows and columns\n",
        "housing_df.shape"
      ],
      "metadata": {
        "id": "PEwiIQrytsDb"
      },
      "execution_count": null,
      "outputs": []
    },
    {
      "cell_type": "code",
      "source": [
        "#first 5 rows in the DataFrame\n",
        "housing_df.head()"
      ],
      "metadata": {
        "id": "euTGdR56Ta9i"
      },
      "execution_count": null,
      "outputs": []
    },
    {
      "cell_type": "code",
      "source": [
        "#last 5 rows in the DataFrame\n",
        "housing_df.tail()"
      ],
      "metadata": {
        "id": "g35RcYyWTm70"
      },
      "execution_count": null,
      "outputs": []
    },
    {
      "cell_type": "code",
      "source": [
        "#information about the Dataframe\n",
        "housing_df.info()"
      ],
      "metadata": {
        "id": "tMaY7k5jTwaK"
      },
      "execution_count": null,
      "outputs": []
    },
    {
      "cell_type": "code",
      "source": [
        "#finding the number of missing values in dataframe\n",
        "housing_df.isnull().sum()"
      ],
      "metadata": {
        "id": "NvXhjja1UGoZ"
      },
      "execution_count": null,
      "outputs": []
    },
    {
      "cell_type": "code",
      "source": [
        "#counting the values based on labels\n",
        "housing_df.value_counts('HouseAge')"
      ],
      "metadata": {
        "id": "9YYT9uvMUV9J"
      },
      "execution_count": null,
      "outputs": []
    },
    {
      "cell_type": "code",
      "source": [
        "#group the values based on means\n",
        "housing_df.groupby('HouseAge').mean()"
      ],
      "metadata": {
        "id": "zFozxCkmUwFD"
      },
      "execution_count": null,
      "outputs": []
    },
    {
      "cell_type": "markdown",
      "source": [
        "Statistical Measures"
      ],
      "metadata": {
        "id": "xj9qkLtcVba-"
      }
    },
    {
      "cell_type": "code",
      "source": [
        "#counting the data points in each column\n",
        "housing_df.count()"
      ],
      "metadata": {
        "id": "lMoJsrpPVBsR"
      },
      "execution_count": null,
      "outputs": []
    },
    {
      "cell_type": "code",
      "source": [
        "#mean value - column wise\n",
        "housing_df.mean()"
      ],
      "metadata": {
        "id": "58WjhrXhVriF"
      },
      "execution_count": null,
      "outputs": []
    },
    {
      "cell_type": "code",
      "source": [
        "#standard deviation - column wise\n",
        "housing_df.std()"
      ],
      "metadata": {
        "id": "rVvtI-8BWWg0"
      },
      "execution_count": null,
      "outputs": []
    },
    {
      "cell_type": "code",
      "source": [
        "#minimum value\n",
        "housing_df.min()"
      ],
      "metadata": {
        "id": "dz4sz70kWgPj"
      },
      "execution_count": null,
      "outputs": []
    },
    {
      "cell_type": "code",
      "source": [
        "#maximum value\n",
        "housing_df.max()"
      ],
      "metadata": {
        "id": "XAZ3hZtuWvp4"
      },
      "execution_count": null,
      "outputs": []
    },
    {
      "cell_type": "code",
      "source": [
        "#all the statistical measure about dataframe\n",
        "housing_df.describe()"
      ],
      "metadata": {
        "id": "ZFWAEXa1W2lr"
      },
      "execution_count": null,
      "outputs": []
    },
    {
      "cell_type": "markdown",
      "source": [
        "Manipulating a dataframe"
      ],
      "metadata": {
        "id": "nK7mrgz1XKcy"
      }
    },
    {
      "cell_type": "code",
      "source": [
        "#adding a column to a Dataframe\n",
        "housing_df['price']= housing_df.MedInc\n"
      ],
      "metadata": {
        "id": "x3v-VwzCXDtW"
      },
      "execution_count": null,
      "outputs": []
    },
    {
      "cell_type": "code",
      "source": [
        "housing_df.head()"
      ],
      "metadata": {
        "id": "QipVmlKGX1e4"
      },
      "execution_count": null,
      "outputs": []
    },
    {
      "cell_type": "code",
      "source": [
        "#removing a row\n",
        "housing_df.drop(index=1, axis=0)"
      ],
      "metadata": {
        "id": "NySMams4YeC-"
      },
      "execution_count": null,
      "outputs": []
    },
    {
      "cell_type": "code",
      "source": [
        "#removing a column\n",
        "housing_df.drop(columns='price', axis =1)"
      ],
      "metadata": {
        "id": "kZbbyDb1Yp6r"
      },
      "execution_count": null,
      "outputs": []
    },
    {
      "cell_type": "code",
      "source": [
        "#locating a row using index value\n",
        "housing_df.iloc[3]"
      ],
      "metadata": {
        "id": "0XBW6noiY-W0"
      },
      "execution_count": null,
      "outputs": []
    },
    {
      "cell_type": "code",
      "source": [
        "#locating a particular columns\n",
        "print(housing_df.iloc[:,0])  #first column\n",
        "print(housing_df.iloc[:,1])  #second column\n",
        "print(housing_df.iloc[:,2])   #third column\n",
        "print(housing_df.iloc[:,-1])  #last column"
      ],
      "metadata": {
        "id": "GLBPJkkXZUiE"
      },
      "execution_count": null,
      "outputs": []
    },
    {
      "cell_type": "markdown",
      "source": [
        "correlation\n",
        "\n",
        "1. positive correlation\n",
        "2. negatrive correlation"
      ],
      "metadata": {
        "id": "Y7130kowab5F"
      }
    },
    {
      "cell_type": "code",
      "source": [
        "housing_df.corr()"
      ],
      "metadata": {
        "id": "kd3az7feZc76"
      },
      "execution_count": null,
      "outputs": []
    },
    {
      "cell_type": "code",
      "source": [],
      "metadata": {
        "id": "q3BycOD-asXz"
      },
      "execution_count": null,
      "outputs": []
    }
  ]
}